{
 "cells": [
  {
   "cell_type": "code",
   "execution_count": 1,
   "id": "c406041e",
   "metadata": {
    "_cell_guid": "b1076dfc-b9ad-4769-8c92-a6c4dae69d19",
    "_uuid": "8f2839f25d086af736a60e9eeb907d3b93b6e0e5",
    "execution": {
     "iopub.execute_input": "2024-01-20T07:42:13.478310Z",
     "iopub.status.busy": "2024-01-20T07:42:13.477451Z",
     "iopub.status.idle": "2024-01-20T07:42:13.860512Z",
     "shell.execute_reply": "2024-01-20T07:42:13.859063Z"
    },
    "papermill": {
     "duration": 0.394606,
     "end_time": "2024-01-20T07:42:13.863459",
     "exception": false,
     "start_time": "2024-01-20T07:42:13.468853",
     "status": "completed"
    },
    "tags": []
   },
   "outputs": [],
   "source": [
    "import numpy as np\n",
    "import pandas as pd"
   ]
  },
  {
   "cell_type": "code",
   "execution_count": 2,
   "id": "9aaf0cf3",
   "metadata": {
    "execution": {
     "iopub.execute_input": "2024-01-20T07:42:13.877836Z",
     "iopub.status.busy": "2024-01-20T07:42:13.877281Z",
     "iopub.status.idle": "2024-01-20T07:42:13.915272Z",
     "shell.execute_reply": "2024-01-20T07:42:13.913985Z"
    },
    "papermill": {
     "duration": 0.048055,
     "end_time": "2024-01-20T07:42:13.918052",
     "exception": false,
     "start_time": "2024-01-20T07:42:13.869997",
     "status": "completed"
    },
    "tags": []
   },
   "outputs": [
    {
     "data": {
      "text/html": [
       "<div>\n",
       "<style scoped>\n",
       "    .dataframe tbody tr th:only-of-type {\n",
       "        vertical-align: middle;\n",
       "    }\n",
       "\n",
       "    .dataframe tbody tr th {\n",
       "        vertical-align: top;\n",
       "    }\n",
       "\n",
       "    .dataframe thead th {\n",
       "        text-align: right;\n",
       "    }\n",
       "</style>\n",
       "<table border=\"1\" class=\"dataframe\">\n",
       "  <thead>\n",
       "    <tr style=\"text-align: right;\">\n",
       "      <th></th>\n",
       "      <th>age</th>\n",
       "      <th>gender</th>\n",
       "      <th>review</th>\n",
       "      <th>education</th>\n",
       "      <th>purchased</th>\n",
       "    </tr>\n",
       "  </thead>\n",
       "  <tbody>\n",
       "    <tr>\n",
       "      <th>0</th>\n",
       "      <td>30</td>\n",
       "      <td>Female</td>\n",
       "      <td>Average</td>\n",
       "      <td>School</td>\n",
       "      <td>No</td>\n",
       "    </tr>\n",
       "    <tr>\n",
       "      <th>1</th>\n",
       "      <td>68</td>\n",
       "      <td>Female</td>\n",
       "      <td>Poor</td>\n",
       "      <td>UG</td>\n",
       "      <td>No</td>\n",
       "    </tr>\n",
       "    <tr>\n",
       "      <th>2</th>\n",
       "      <td>70</td>\n",
       "      <td>Female</td>\n",
       "      <td>Good</td>\n",
       "      <td>PG</td>\n",
       "      <td>No</td>\n",
       "    </tr>\n",
       "    <tr>\n",
       "      <th>3</th>\n",
       "      <td>72</td>\n",
       "      <td>Female</td>\n",
       "      <td>Good</td>\n",
       "      <td>PG</td>\n",
       "      <td>No</td>\n",
       "    </tr>\n",
       "    <tr>\n",
       "      <th>4</th>\n",
       "      <td>16</td>\n",
       "      <td>Female</td>\n",
       "      <td>Average</td>\n",
       "      <td>UG</td>\n",
       "      <td>No</td>\n",
       "    </tr>\n",
       "  </tbody>\n",
       "</table>\n",
       "</div>"
      ],
      "text/plain": [
       "   age  gender   review education purchased\n",
       "0   30  Female  Average    School        No\n",
       "1   68  Female     Poor        UG        No\n",
       "2   70  Female     Good        PG        No\n",
       "3   72  Female     Good        PG        No\n",
       "4   16  Female  Average        UG        No"
      ]
     },
     "execution_count": 2,
     "metadata": {},
     "output_type": "execute_result"
    }
   ],
   "source": [
    "data = pd.read_csv('/kaggle/input/cccccc/customer.csv')\n",
    "data.head()"
   ]
  },
  {
   "cell_type": "code",
   "execution_count": 3,
   "id": "b94d8cec",
   "metadata": {
    "execution": {
     "iopub.execute_input": "2024-01-20T07:42:13.930882Z",
     "iopub.status.busy": "2024-01-20T07:42:13.930512Z",
     "iopub.status.idle": "2024-01-20T07:42:13.946416Z",
     "shell.execute_reply": "2024-01-20T07:42:13.944935Z"
    },
    "papermill": {
     "duration": 0.025856,
     "end_time": "2024-01-20T07:42:13.949369",
     "exception": false,
     "start_time": "2024-01-20T07:42:13.923513",
     "status": "completed"
    },
    "tags": []
   },
   "outputs": [
    {
     "data": {
      "text/html": [
       "<div>\n",
       "<style scoped>\n",
       "    .dataframe tbody tr th:only-of-type {\n",
       "        vertical-align: middle;\n",
       "    }\n",
       "\n",
       "    .dataframe tbody tr th {\n",
       "        vertical-align: top;\n",
       "    }\n",
       "\n",
       "    .dataframe thead th {\n",
       "        text-align: right;\n",
       "    }\n",
       "</style>\n",
       "<table border=\"1\" class=\"dataframe\">\n",
       "  <thead>\n",
       "    <tr style=\"text-align: right;\">\n",
       "      <th></th>\n",
       "      <th>review</th>\n",
       "      <th>education</th>\n",
       "      <th>purchased</th>\n",
       "    </tr>\n",
       "  </thead>\n",
       "  <tbody>\n",
       "    <tr>\n",
       "      <th>0</th>\n",
       "      <td>Average</td>\n",
       "      <td>School</td>\n",
       "      <td>No</td>\n",
       "    </tr>\n",
       "    <tr>\n",
       "      <th>1</th>\n",
       "      <td>Poor</td>\n",
       "      <td>UG</td>\n",
       "      <td>No</td>\n",
       "    </tr>\n",
       "    <tr>\n",
       "      <th>2</th>\n",
       "      <td>Good</td>\n",
       "      <td>PG</td>\n",
       "      <td>No</td>\n",
       "    </tr>\n",
       "    <tr>\n",
       "      <th>3</th>\n",
       "      <td>Good</td>\n",
       "      <td>PG</td>\n",
       "      <td>No</td>\n",
       "    </tr>\n",
       "    <tr>\n",
       "      <th>4</th>\n",
       "      <td>Average</td>\n",
       "      <td>UG</td>\n",
       "      <td>No</td>\n",
       "    </tr>\n",
       "  </tbody>\n",
       "</table>\n",
       "</div>"
      ],
      "text/plain": [
       "    review education purchased\n",
       "0  Average    School        No\n",
       "1     Poor        UG        No\n",
       "2     Good        PG        No\n",
       "3     Good        PG        No\n",
       "4  Average        UG        No"
      ]
     },
     "execution_count": 3,
     "metadata": {},
     "output_type": "execute_result"
    }
   ],
   "source": [
    "data = data.iloc[:,2:]\n",
    "data.head()"
   ]
  },
  {
   "cell_type": "code",
   "execution_count": 4,
   "id": "559020f9",
   "metadata": {
    "execution": {
     "iopub.execute_input": "2024-01-20T07:42:13.963603Z",
     "iopub.status.busy": "2024-01-20T07:42:13.963224Z",
     "iopub.status.idle": "2024-01-20T07:42:15.347280Z",
     "shell.execute_reply": "2024-01-20T07:42:15.345922Z"
    },
    "papermill": {
     "duration": 1.39496,
     "end_time": "2024-01-20T07:42:15.350552",
     "exception": false,
     "start_time": "2024-01-20T07:42:13.955592",
     "status": "completed"
    },
    "tags": []
   },
   "outputs": [],
   "source": [
    "from sklearn.model_selection import train_test_split\n",
    "x_train,x_test,y_train,y_test = train_test_split(data.iloc[:,0:2],data.iloc[:,-1], test_size=0.3)"
   ]
  },
  {
   "cell_type": "code",
   "execution_count": 5,
   "id": "ab360d09",
   "metadata": {
    "execution": {
     "iopub.execute_input": "2024-01-20T07:42:15.364454Z",
     "iopub.status.busy": "2024-01-20T07:42:15.364056Z",
     "iopub.status.idle": "2024-01-20T07:42:15.369524Z",
     "shell.execute_reply": "2024-01-20T07:42:15.368426Z"
    },
    "papermill": {
     "duration": 0.017096,
     "end_time": "2024-01-20T07:42:15.373789",
     "exception": false,
     "start_time": "2024-01-20T07:42:15.356693",
     "status": "completed"
    },
    "tags": []
   },
   "outputs": [
    {
     "name": "stdout",
     "output_type": "stream",
     "text": [
      "x_train shape (35, 2)\n",
      "x_test shape (15, 2)\n",
      "y_train shape (35,)\n",
      "y_test shape (15,)\n"
     ]
    }
   ],
   "source": [
    "# print the shapes\n",
    "print('x_train shape', x_train.shape)\n",
    "print('x_test shape', x_test.shape)\n",
    "print('y_train shape', y_train.shape)\n",
    "print('y_test shape', y_test.shape)"
   ]
  },
  {
   "cell_type": "code",
   "execution_count": 6,
   "id": "44a35ca4",
   "metadata": {
    "execution": {
     "iopub.execute_input": "2024-01-20T07:42:15.389273Z",
     "iopub.status.busy": "2024-01-20T07:42:15.388855Z",
     "iopub.status.idle": "2024-01-20T07:42:15.400512Z",
     "shell.execute_reply": "2024-01-20T07:42:15.399323Z"
    },
    "papermill": {
     "duration": 0.021832,
     "end_time": "2024-01-20T07:42:15.403468",
     "exception": false,
     "start_time": "2024-01-20T07:42:15.381636",
     "status": "completed"
    },
    "tags": []
   },
   "outputs": [
    {
     "data": {
      "text/html": [
       "<div>\n",
       "<style scoped>\n",
       "    .dataframe tbody tr th:only-of-type {\n",
       "        vertical-align: middle;\n",
       "    }\n",
       "\n",
       "    .dataframe tbody tr th {\n",
       "        vertical-align: top;\n",
       "    }\n",
       "\n",
       "    .dataframe thead th {\n",
       "        text-align: right;\n",
       "    }\n",
       "</style>\n",
       "<table border=\"1\" class=\"dataframe\">\n",
       "  <thead>\n",
       "    <tr style=\"text-align: right;\">\n",
       "      <th></th>\n",
       "      <th>review</th>\n",
       "      <th>education</th>\n",
       "    </tr>\n",
       "  </thead>\n",
       "  <tbody>\n",
       "    <tr>\n",
       "      <th>1</th>\n",
       "      <td>Poor</td>\n",
       "      <td>UG</td>\n",
       "    </tr>\n",
       "    <tr>\n",
       "      <th>19</th>\n",
       "      <td>Poor</td>\n",
       "      <td>PG</td>\n",
       "    </tr>\n",
       "    <tr>\n",
       "      <th>10</th>\n",
       "      <td>Good</td>\n",
       "      <td>UG</td>\n",
       "    </tr>\n",
       "    <tr>\n",
       "      <th>34</th>\n",
       "      <td>Average</td>\n",
       "      <td>School</td>\n",
       "    </tr>\n",
       "    <tr>\n",
       "      <th>0</th>\n",
       "      <td>Average</td>\n",
       "      <td>School</td>\n",
       "    </tr>\n",
       "  </tbody>\n",
       "</table>\n",
       "</div>"
      ],
      "text/plain": [
       "     review education\n",
       "1      Poor        UG\n",
       "19     Poor        PG\n",
       "10     Good        UG\n",
       "34  Average    School\n",
       "0   Average    School"
      ]
     },
     "execution_count": 6,
     "metadata": {},
     "output_type": "execute_result"
    }
   ],
   "source": [
    "x_train.head()"
   ]
  },
  {
   "cell_type": "code",
   "execution_count": 7,
   "id": "504d4d94",
   "metadata": {
    "execution": {
     "iopub.execute_input": "2024-01-20T07:42:15.416387Z",
     "iopub.status.busy": "2024-01-20T07:42:15.415956Z",
     "iopub.status.idle": "2024-01-20T07:42:15.429474Z",
     "shell.execute_reply": "2024-01-20T07:42:15.428013Z"
    },
    "papermill": {
     "duration": 0.022553,
     "end_time": "2024-01-20T07:42:15.431829",
     "exception": false,
     "start_time": "2024-01-20T07:42:15.409276",
     "status": "completed"
    },
    "tags": []
   },
   "outputs": [
    {
     "data": {
      "text/plain": [
       "array(['Poor', 'Good', 'Average'], dtype=object)"
      ]
     },
     "execution_count": 7,
     "metadata": {},
     "output_type": "execute_result"
    }
   ],
   "source": [
    "x_train.review.unique()"
   ]
  },
  {
   "cell_type": "code",
   "execution_count": 8,
   "id": "a28100af",
   "metadata": {
    "execution": {
     "iopub.execute_input": "2024-01-20T07:42:15.444724Z",
     "iopub.status.busy": "2024-01-20T07:42:15.444343Z",
     "iopub.status.idle": "2024-01-20T07:42:15.452693Z",
     "shell.execute_reply": "2024-01-20T07:42:15.451248Z"
    },
    "papermill": {
     "duration": 0.017609,
     "end_time": "2024-01-20T07:42:15.455064",
     "exception": false,
     "start_time": "2024-01-20T07:42:15.437455",
     "status": "completed"
    },
    "tags": []
   },
   "outputs": [
    {
     "data": {
      "text/plain": [
       "array(['UG', 'PG', 'School'], dtype=object)"
      ]
     },
     "execution_count": 8,
     "metadata": {},
     "output_type": "execute_result"
    }
   ],
   "source": [
    "x_train.education.unique()"
   ]
  },
  {
   "cell_type": "code",
   "execution_count": 9,
   "id": "4edf41c3",
   "metadata": {
    "execution": {
     "iopub.execute_input": "2024-01-20T07:42:15.468311Z",
     "iopub.status.busy": "2024-01-20T07:42:15.467882Z",
     "iopub.status.idle": "2024-01-20T07:42:15.473614Z",
     "shell.execute_reply": "2024-01-20T07:42:15.472341Z"
    },
    "papermill": {
     "duration": 0.015191,
     "end_time": "2024-01-20T07:42:15.475806",
     "exception": false,
     "start_time": "2024-01-20T07:42:15.460615",
     "status": "completed"
    },
    "tags": []
   },
   "outputs": [],
   "source": [
    "from sklearn.preprocessing import OrdinalEncoder\n",
    "oe = OrdinalEncoder(categories=[['Poor','Average','Good'],['School','UG','PG']])"
   ]
  },
  {
   "cell_type": "code",
   "execution_count": 10,
   "id": "c5224974",
   "metadata": {
    "execution": {
     "iopub.execute_input": "2024-01-20T07:42:15.489027Z",
     "iopub.status.busy": "2024-01-20T07:42:15.488557Z",
     "iopub.status.idle": "2024-01-20T07:42:15.501262Z",
     "shell.execute_reply": "2024-01-20T07:42:15.499666Z"
    },
    "papermill": {
     "duration": 0.022376,
     "end_time": "2024-01-20T07:42:15.503887",
     "exception": false,
     "start_time": "2024-01-20T07:42:15.481511",
     "status": "completed"
    },
    "tags": []
   },
   "outputs": [
    {
     "data": {
      "text/html": [
       "<style>#sk-container-id-1 {color: black;background-color: white;}#sk-container-id-1 pre{padding: 0;}#sk-container-id-1 div.sk-toggleable {background-color: white;}#sk-container-id-1 label.sk-toggleable__label {cursor: pointer;display: block;width: 100%;margin-bottom: 0;padding: 0.3em;box-sizing: border-box;text-align: center;}#sk-container-id-1 label.sk-toggleable__label-arrow:before {content: \"▸\";float: left;margin-right: 0.25em;color: #696969;}#sk-container-id-1 label.sk-toggleable__label-arrow:hover:before {color: black;}#sk-container-id-1 div.sk-estimator:hover label.sk-toggleable__label-arrow:before {color: black;}#sk-container-id-1 div.sk-toggleable__content {max-height: 0;max-width: 0;overflow: hidden;text-align: left;background-color: #f0f8ff;}#sk-container-id-1 div.sk-toggleable__content pre {margin: 0.2em;color: black;border-radius: 0.25em;background-color: #f0f8ff;}#sk-container-id-1 input.sk-toggleable__control:checked~div.sk-toggleable__content {max-height: 200px;max-width: 100%;overflow: auto;}#sk-container-id-1 input.sk-toggleable__control:checked~label.sk-toggleable__label-arrow:before {content: \"▾\";}#sk-container-id-1 div.sk-estimator input.sk-toggleable__control:checked~label.sk-toggleable__label {background-color: #d4ebff;}#sk-container-id-1 div.sk-label input.sk-toggleable__control:checked~label.sk-toggleable__label {background-color: #d4ebff;}#sk-container-id-1 input.sk-hidden--visually {border: 0;clip: rect(1px 1px 1px 1px);clip: rect(1px, 1px, 1px, 1px);height: 1px;margin: -1px;overflow: hidden;padding: 0;position: absolute;width: 1px;}#sk-container-id-1 div.sk-estimator {font-family: monospace;background-color: #f0f8ff;border: 1px dotted black;border-radius: 0.25em;box-sizing: border-box;margin-bottom: 0.5em;}#sk-container-id-1 div.sk-estimator:hover {background-color: #d4ebff;}#sk-container-id-1 div.sk-parallel-item::after {content: \"\";width: 100%;border-bottom: 1px solid gray;flex-grow: 1;}#sk-container-id-1 div.sk-label:hover label.sk-toggleable__label {background-color: #d4ebff;}#sk-container-id-1 div.sk-serial::before {content: \"\";position: absolute;border-left: 1px solid gray;box-sizing: border-box;top: 0;bottom: 0;left: 50%;z-index: 0;}#sk-container-id-1 div.sk-serial {display: flex;flex-direction: column;align-items: center;background-color: white;padding-right: 0.2em;padding-left: 0.2em;position: relative;}#sk-container-id-1 div.sk-item {position: relative;z-index: 1;}#sk-container-id-1 div.sk-parallel {display: flex;align-items: stretch;justify-content: center;background-color: white;position: relative;}#sk-container-id-1 div.sk-item::before, #sk-container-id-1 div.sk-parallel-item::before {content: \"\";position: absolute;border-left: 1px solid gray;box-sizing: border-box;top: 0;bottom: 0;left: 50%;z-index: -1;}#sk-container-id-1 div.sk-parallel-item {display: flex;flex-direction: column;z-index: 1;position: relative;background-color: white;}#sk-container-id-1 div.sk-parallel-item:first-child::after {align-self: flex-end;width: 50%;}#sk-container-id-1 div.sk-parallel-item:last-child::after {align-self: flex-start;width: 50%;}#sk-container-id-1 div.sk-parallel-item:only-child::after {width: 0;}#sk-container-id-1 div.sk-dashed-wrapped {border: 1px dashed gray;margin: 0 0.4em 0.5em 0.4em;box-sizing: border-box;padding-bottom: 0.4em;background-color: white;}#sk-container-id-1 div.sk-label label {font-family: monospace;font-weight: bold;display: inline-block;line-height: 1.2em;}#sk-container-id-1 div.sk-label-container {text-align: center;}#sk-container-id-1 div.sk-container {/* jupyter's `normalize.less` sets `[hidden] { display: none; }` but bootstrap.min.css set `[hidden] { display: none !important; }` so we also need the `!important` here to be able to override the default hidden behavior on the sphinx rendered scikit-learn.org. See: https://github.com/scikit-learn/scikit-learn/issues/21755 */display: inline-block !important;position: relative;}#sk-container-id-1 div.sk-text-repr-fallback {display: none;}</style><div id=\"sk-container-id-1\" class=\"sk-top-container\"><div class=\"sk-text-repr-fallback\"><pre>OrdinalEncoder(categories=[[&#x27;Poor&#x27;, &#x27;Average&#x27;, &#x27;Good&#x27;], [&#x27;School&#x27;, &#x27;UG&#x27;, &#x27;PG&#x27;]])</pre><b>In a Jupyter environment, please rerun this cell to show the HTML representation or trust the notebook. <br />On GitHub, the HTML representation is unable to render, please try loading this page with nbviewer.org.</b></div><div class=\"sk-container\" hidden><div class=\"sk-item\"><div class=\"sk-estimator sk-toggleable\"><input class=\"sk-toggleable__control sk-hidden--visually\" id=\"sk-estimator-id-1\" type=\"checkbox\" checked><label for=\"sk-estimator-id-1\" class=\"sk-toggleable__label sk-toggleable__label-arrow\">OrdinalEncoder</label><div class=\"sk-toggleable__content\"><pre>OrdinalEncoder(categories=[[&#x27;Poor&#x27;, &#x27;Average&#x27;, &#x27;Good&#x27;], [&#x27;School&#x27;, &#x27;UG&#x27;, &#x27;PG&#x27;]])</pre></div></div></div></div></div>"
      ],
      "text/plain": [
       "OrdinalEncoder(categories=[['Poor', 'Average', 'Good'], ['School', 'UG', 'PG']])"
      ]
     },
     "execution_count": 10,
     "metadata": {},
     "output_type": "execute_result"
    }
   ],
   "source": [
    "oe.fit(x_train)"
   ]
  },
  {
   "cell_type": "code",
   "execution_count": 11,
   "id": "4772294b",
   "metadata": {
    "execution": {
     "iopub.execute_input": "2024-01-20T07:42:15.517602Z",
     "iopub.status.busy": "2024-01-20T07:42:15.517221Z",
     "iopub.status.idle": "2024-01-20T07:42:15.523597Z",
     "shell.execute_reply": "2024-01-20T07:42:15.522345Z"
    },
    "papermill": {
     "duration": 0.016232,
     "end_time": "2024-01-20T07:42:15.526104",
     "exception": false,
     "start_time": "2024-01-20T07:42:15.509872",
     "status": "completed"
    },
    "tags": []
   },
   "outputs": [],
   "source": [
    "x_train = oe.transform(x_train)"
   ]
  },
  {
   "cell_type": "code",
   "execution_count": 12,
   "id": "7d08f77b",
   "metadata": {
    "execution": {
     "iopub.execute_input": "2024-01-20T07:42:15.539703Z",
     "iopub.status.busy": "2024-01-20T07:42:15.539326Z",
     "iopub.status.idle": "2024-01-20T07:42:15.547387Z",
     "shell.execute_reply": "2024-01-20T07:42:15.546264Z"
    },
    "papermill": {
     "duration": 0.017681,
     "end_time": "2024-01-20T07:42:15.549597",
     "exception": false,
     "start_time": "2024-01-20T07:42:15.531916",
     "status": "completed"
    },
    "tags": []
   },
   "outputs": [
    {
     "data": {
      "text/plain": [
       "array([[0., 1.],\n",
       "       [0., 2.],\n",
       "       [2., 1.],\n",
       "       [1., 0.],\n",
       "       [1., 0.],\n",
       "       [0., 0.],\n",
       "       [2., 1.],\n",
       "       [0., 2.],\n",
       "       [0., 1.],\n",
       "       [2., 1.],\n",
       "       [1., 1.],\n",
       "       [0., 2.],\n",
       "       [0., 1.],\n",
       "       [1., 1.],\n",
       "       [2., 1.],\n",
       "       [0., 0.],\n",
       "       [2., 0.],\n",
       "       [2., 0.],\n",
       "       [2., 1.],\n",
       "       [0., 1.],\n",
       "       [2., 2.],\n",
       "       [0., 2.],\n",
       "       [2., 0.],\n",
       "       [0., 0.],\n",
       "       [1., 0.],\n",
       "       [1., 1.],\n",
       "       [2., 0.],\n",
       "       [2., 1.],\n",
       "       [0., 2.],\n",
       "       [0., 0.],\n",
       "       [2., 0.],\n",
       "       [1., 2.],\n",
       "       [1., 0.],\n",
       "       [2., 2.],\n",
       "       [2., 0.]])"
      ]
     },
     "execution_count": 12,
     "metadata": {},
     "output_type": "execute_result"
    }
   ],
   "source": [
    "x_train"
   ]
  },
  {
   "cell_type": "code",
   "execution_count": 13,
   "id": "87af90fa",
   "metadata": {
    "execution": {
     "iopub.execute_input": "2024-01-20T07:42:15.563601Z",
     "iopub.status.busy": "2024-01-20T07:42:15.563116Z",
     "iopub.status.idle": "2024-01-20T07:42:15.570745Z",
     "shell.execute_reply": "2024-01-20T07:42:15.569594Z"
    },
    "papermill": {
     "duration": 0.0174,
     "end_time": "2024-01-20T07:42:15.572919",
     "exception": false,
     "start_time": "2024-01-20T07:42:15.555519",
     "status": "completed"
    },
    "tags": []
   },
   "outputs": [
    {
     "data": {
      "text/plain": [
       "[array(['Poor', 'Average', 'Good'], dtype=object),\n",
       " array(['School', 'UG', 'PG'], dtype=object)]"
      ]
     },
     "execution_count": 13,
     "metadata": {},
     "output_type": "execute_result"
    }
   ],
   "source": [
    "    oe.categories_"
   ]
  },
  {
   "cell_type": "code",
   "execution_count": 14,
   "id": "74507efa",
   "metadata": {
    "execution": {
     "iopub.execute_input": "2024-01-20T07:42:15.587153Z",
     "iopub.status.busy": "2024-01-20T07:42:15.586661Z",
     "iopub.status.idle": "2024-01-20T07:42:15.591462Z",
     "shell.execute_reply": "2024-01-20T07:42:15.590423Z"
    },
    "papermill": {
     "duration": 0.014486,
     "end_time": "2024-01-20T07:42:15.593572",
     "exception": false,
     "start_time": "2024-01-20T07:42:15.579086",
     "status": "completed"
    },
    "tags": []
   },
   "outputs": [],
   "source": [
    "from sklearn.preprocessing import LabelEncoder\n",
    "le = LabelEncoder()"
   ]
  },
  {
   "cell_type": "code",
   "execution_count": 15,
   "id": "a5221593",
   "metadata": {
    "execution": {
     "iopub.execute_input": "2024-01-20T07:42:15.607713Z",
     "iopub.status.busy": "2024-01-20T07:42:15.607288Z",
     "iopub.status.idle": "2024-01-20T07:42:15.616529Z",
     "shell.execute_reply": "2024-01-20T07:42:15.615602Z"
    },
    "papermill": {
     "duration": 0.019066,
     "end_time": "2024-01-20T07:42:15.618622",
     "exception": false,
     "start_time": "2024-01-20T07:42:15.599556",
     "status": "completed"
    },
    "tags": []
   },
   "outputs": [
    {
     "data": {
      "text/html": [
       "<style>#sk-container-id-2 {color: black;background-color: white;}#sk-container-id-2 pre{padding: 0;}#sk-container-id-2 div.sk-toggleable {background-color: white;}#sk-container-id-2 label.sk-toggleable__label {cursor: pointer;display: block;width: 100%;margin-bottom: 0;padding: 0.3em;box-sizing: border-box;text-align: center;}#sk-container-id-2 label.sk-toggleable__label-arrow:before {content: \"▸\";float: left;margin-right: 0.25em;color: #696969;}#sk-container-id-2 label.sk-toggleable__label-arrow:hover:before {color: black;}#sk-container-id-2 div.sk-estimator:hover label.sk-toggleable__label-arrow:before {color: black;}#sk-container-id-2 div.sk-toggleable__content {max-height: 0;max-width: 0;overflow: hidden;text-align: left;background-color: #f0f8ff;}#sk-container-id-2 div.sk-toggleable__content pre {margin: 0.2em;color: black;border-radius: 0.25em;background-color: #f0f8ff;}#sk-container-id-2 input.sk-toggleable__control:checked~div.sk-toggleable__content {max-height: 200px;max-width: 100%;overflow: auto;}#sk-container-id-2 input.sk-toggleable__control:checked~label.sk-toggleable__label-arrow:before {content: \"▾\";}#sk-container-id-2 div.sk-estimator input.sk-toggleable__control:checked~label.sk-toggleable__label {background-color: #d4ebff;}#sk-container-id-2 div.sk-label input.sk-toggleable__control:checked~label.sk-toggleable__label {background-color: #d4ebff;}#sk-container-id-2 input.sk-hidden--visually {border: 0;clip: rect(1px 1px 1px 1px);clip: rect(1px, 1px, 1px, 1px);height: 1px;margin: -1px;overflow: hidden;padding: 0;position: absolute;width: 1px;}#sk-container-id-2 div.sk-estimator {font-family: monospace;background-color: #f0f8ff;border: 1px dotted black;border-radius: 0.25em;box-sizing: border-box;margin-bottom: 0.5em;}#sk-container-id-2 div.sk-estimator:hover {background-color: #d4ebff;}#sk-container-id-2 div.sk-parallel-item::after {content: \"\";width: 100%;border-bottom: 1px solid gray;flex-grow: 1;}#sk-container-id-2 div.sk-label:hover label.sk-toggleable__label {background-color: #d4ebff;}#sk-container-id-2 div.sk-serial::before {content: \"\";position: absolute;border-left: 1px solid gray;box-sizing: border-box;top: 0;bottom: 0;left: 50%;z-index: 0;}#sk-container-id-2 div.sk-serial {display: flex;flex-direction: column;align-items: center;background-color: white;padding-right: 0.2em;padding-left: 0.2em;position: relative;}#sk-container-id-2 div.sk-item {position: relative;z-index: 1;}#sk-container-id-2 div.sk-parallel {display: flex;align-items: stretch;justify-content: center;background-color: white;position: relative;}#sk-container-id-2 div.sk-item::before, #sk-container-id-2 div.sk-parallel-item::before {content: \"\";position: absolute;border-left: 1px solid gray;box-sizing: border-box;top: 0;bottom: 0;left: 50%;z-index: -1;}#sk-container-id-2 div.sk-parallel-item {display: flex;flex-direction: column;z-index: 1;position: relative;background-color: white;}#sk-container-id-2 div.sk-parallel-item:first-child::after {align-self: flex-end;width: 50%;}#sk-container-id-2 div.sk-parallel-item:last-child::after {align-self: flex-start;width: 50%;}#sk-container-id-2 div.sk-parallel-item:only-child::after {width: 0;}#sk-container-id-2 div.sk-dashed-wrapped {border: 1px dashed gray;margin: 0 0.4em 0.5em 0.4em;box-sizing: border-box;padding-bottom: 0.4em;background-color: white;}#sk-container-id-2 div.sk-label label {font-family: monospace;font-weight: bold;display: inline-block;line-height: 1.2em;}#sk-container-id-2 div.sk-label-container {text-align: center;}#sk-container-id-2 div.sk-container {/* jupyter's `normalize.less` sets `[hidden] { display: none; }` but bootstrap.min.css set `[hidden] { display: none !important; }` so we also need the `!important` here to be able to override the default hidden behavior on the sphinx rendered scikit-learn.org. See: https://github.com/scikit-learn/scikit-learn/issues/21755 */display: inline-block !important;position: relative;}#sk-container-id-2 div.sk-text-repr-fallback {display: none;}</style><div id=\"sk-container-id-2\" class=\"sk-top-container\"><div class=\"sk-text-repr-fallback\"><pre>LabelEncoder()</pre><b>In a Jupyter environment, please rerun this cell to show the HTML representation or trust the notebook. <br />On GitHub, the HTML representation is unable to render, please try loading this page with nbviewer.org.</b></div><div class=\"sk-container\" hidden><div class=\"sk-item\"><div class=\"sk-estimator sk-toggleable\"><input class=\"sk-toggleable__control sk-hidden--visually\" id=\"sk-estimator-id-2\" type=\"checkbox\" checked><label for=\"sk-estimator-id-2\" class=\"sk-toggleable__label sk-toggleable__label-arrow\">LabelEncoder</label><div class=\"sk-toggleable__content\"><pre>LabelEncoder()</pre></div></div></div></div></div>"
      ],
      "text/plain": [
       "LabelEncoder()"
      ]
     },
     "execution_count": 15,
     "metadata": {},
     "output_type": "execute_result"
    }
   ],
   "source": [
    "le.fit(y_train)"
   ]
  },
  {
   "cell_type": "code",
   "execution_count": 16,
   "id": "e3c3cea8",
   "metadata": {
    "execution": {
     "iopub.execute_input": "2024-01-20T07:42:15.633738Z",
     "iopub.status.busy": "2024-01-20T07:42:15.633290Z",
     "iopub.status.idle": "2024-01-20T07:42:15.640624Z",
     "shell.execute_reply": "2024-01-20T07:42:15.639506Z"
    },
    "papermill": {
     "duration": 0.017856,
     "end_time": "2024-01-20T07:42:15.642821",
     "exception": false,
     "start_time": "2024-01-20T07:42:15.624965",
     "status": "completed"
    },
    "tags": []
   },
   "outputs": [
    {
     "data": {
      "text/plain": [
       "array(['No', 'Yes'], dtype=object)"
      ]
     },
     "execution_count": 16,
     "metadata": {},
     "output_type": "execute_result"
    }
   ],
   "source": [
    "le.classes_"
   ]
  },
  {
   "cell_type": "code",
   "execution_count": 17,
   "id": "8cb650dc",
   "metadata": {
    "execution": {
     "iopub.execute_input": "2024-01-20T07:42:15.658348Z",
     "iopub.status.busy": "2024-01-20T07:42:15.657876Z",
     "iopub.status.idle": "2024-01-20T07:42:15.663833Z",
     "shell.execute_reply": "2024-01-20T07:42:15.662465Z"
    },
    "papermill": {
     "duration": 0.01672,
     "end_time": "2024-01-20T07:42:15.666220",
     "exception": false,
     "start_time": "2024-01-20T07:42:15.649500",
     "status": "completed"
    },
    "tags": []
   },
   "outputs": [],
   "source": [
    "y_train = le.transform(y_train)\n",
    "y_test = le.transform(y_test)"
   ]
  },
  {
   "cell_type": "code",
   "execution_count": 18,
   "id": "70f715b9",
   "metadata": {
    "execution": {
     "iopub.execute_input": "2024-01-20T07:42:15.682611Z",
     "iopub.status.busy": "2024-01-20T07:42:15.682240Z",
     "iopub.status.idle": "2024-01-20T07:42:15.689614Z",
     "shell.execute_reply": "2024-01-20T07:42:15.688328Z"
    },
    "papermill": {
     "duration": 0.018922,
     "end_time": "2024-01-20T07:42:15.692113",
     "exception": false,
     "start_time": "2024-01-20T07:42:15.673191",
     "status": "completed"
    },
    "tags": []
   },
   "outputs": [
    {
     "data": {
      "text/plain": [
       "array([0, 1, 1, 0, 0, 0, 0, 0, 1, 1, 0, 0, 0, 0, 1, 1, 0, 0, 1, 1, 1, 0,\n",
       "       0, 0, 0, 1, 0, 1, 0, 1, 0, 0, 1, 1, 0])"
      ]
     },
     "execution_count": 18,
     "metadata": {},
     "output_type": "execute_result"
    }
   ],
   "source": [
    "y_train"
   ]
  },
  {
   "cell_type": "code",
   "execution_count": null,
   "id": "1251679c",
   "metadata": {
    "papermill": {
     "duration": 0.007304,
     "end_time": "2024-01-20T07:42:15.707045",
     "exception": false,
     "start_time": "2024-01-20T07:42:15.699741",
     "status": "completed"
    },
    "tags": []
   },
   "outputs": [],
   "source": []
  }
 ],
 "metadata": {
  "kaggle": {
   "accelerator": "none",
   "dataSources": [
    {
     "datasetId": 4329918,
     "sourceId": 7439483,
     "sourceType": "datasetVersion"
    }
   ],
   "dockerImageVersionId": 30635,
   "isGpuEnabled": false,
   "isInternetEnabled": true,
   "language": "python",
   "sourceType": "notebook"
  },
  "kernelspec": {
   "display_name": "Python 3",
   "language": "python",
   "name": "python3"
  },
  "language_info": {
   "codemirror_mode": {
    "name": "ipython",
    "version": 3
   },
   "file_extension": ".py",
   "mimetype": "text/x-python",
   "name": "python",
   "nbconvert_exporter": "python",
   "pygments_lexer": "ipython3",
   "version": "3.10.12"
  },
  "papermill": {
   "default_parameters": {},
   "duration": 6.142278,
   "end_time": "2024-01-20T07:42:16.336792",
   "environment_variables": {},
   "exception": null,
   "input_path": "__notebook__.ipynb",
   "output_path": "__notebook__.ipynb",
   "parameters": {},
   "start_time": "2024-01-20T07:42:10.194514",
   "version": "2.4.0"
  }
 },
 "nbformat": 4,
 "nbformat_minor": 5
}
